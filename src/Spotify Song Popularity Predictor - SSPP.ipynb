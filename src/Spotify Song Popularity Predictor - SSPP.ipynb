{
 "cells": [
  {
   "cell_type": "markdown",
   "metadata": {},
   "source": [
    "-------------------------------------------------------------------------------------------------------------------\n",
    "Tim Ellis & Israel Lopez\\\n",
    "Cal State LA - CS4661\\"
   ]
  },
  {
   "cell_type": "markdown",
   "metadata": {},
   "source": [
    "-------------------------------------------------------------------------------------------------------------------\n",
    "## Table of Contents\n",
    "-------------------------------------------------------------------------------------------------------------------"
   ]
  },
  {
   "cell_type": "markdown",
   "metadata": {},
   "source": [
    "+ 1. **Introduction** - Tim Ellis\n",
    "+ 2. **Setup** - Israel Lopez\n",
    "+ 3. **KNN** - Tim Ellis\n",
    "    - A. Get knn accuracy for each individual feature\n",
    "    - B. KNN with different K values\n",
    "    - C. Decision Tree with bagging/voting\n",
    "    - D. KNN with 2-feature combination\n",
    "    - E. KNN single feature with best performing K\n",
    "    - F. Make final evaluation\n",
    "+ 4. **Decision Tree** - Israel Lopez\n",
    "    - A. General case Decision Tree without random_state\n",
    "    - B. Decision Tree with random_state\n",
    "    - C. Decision Tree with bagging/voting\n",
    "    - D. Results\n",
    "\n",
    "+ 5. **Linear Regression** - Israel Lopez\n",
    "    - A. Linear regression testing\n",
    "    - B. MSE and RMSE\n",
    "    - C. Results and visualization\n",
    "+ 6. **Logistic Regression** - Tim Ellis\n",
    "    - A. General case logistic regression\n",
    "    - B. Logistic regression with cross validation\n",
    "    - C. Logistic regression probabilities\n",
    "    - D. Compute AUC and Plot ROC Curve\n",
    "+ 7. **Random Forest** - Israel Lopez\n",
    "+ 8. **KMeans Clustering** - Tim Ellis\n",
    "    - A. Kmeans Testing Pt. 1\n",
    "    - B. Kmeans Testing Pt. 2\n",
    "    - C. Kmeans Combined Testing and Results\n",
    "+ 9. **Conclusion** - Israel Lopez\n",
    "+ 10. **Resources** - Tim Ellis"
   ]
  },
  {
   "cell_type": "markdown",
   "metadata": {},
   "source": [
    "-------------------------------------------------------------------------------------------------------------------\n",
    "## 1.) Introduction\n",
    "-------------------------------------------------------------------------------------------------------------------"
   ]
  },
  {
   "cell_type": "markdown",
   "metadata": {},
   "source": [
    "The Spotify Song Popularity Predictor, or SSPP, is a data science project intended to find the best model for predicting song popularity on the Spotify platform, based on a set of features: acousticness, danceability, energy, instrumentalness, liveness, speechiness, valence. The project imports the Spotify dataset, courtesty of Kaggle (https://www.kaggle.com/yamaerenay/spotify-dataset-19212020-160k-tracks), and then creates a feature matrix and label vector that can be used with the knn, decision tree, linear regression, logistic regression, random forest, and kmeans clustering algorithms to find a model that produces the most accurate popularity prediction. With this model, a useful application can be created for musicians, A&R agents, managers, and members of the music industry to measure a songs liklihood, or not, of becoming popular on the Spotify platform, one of the most popular music streaming platforms on the market."
   ]
  },
  {
   "cell_type": "markdown",
   "metadata": {},
   "source": [
    "-------------------------------------------------------------------------------------------------------------------\n",
    "## 2.) Setup\n",
    "-------------------------------------------------------------------------------------------------------------------"
   ]
  },
  {
   "cell_type": "markdown",
   "metadata": {},
   "source": [
    "#### Imports\n",
    "- First we will import the libraries we will need for the project. This block of code will house these imports"
   ]
  },
  {
   "cell_type": "code",
   "execution_count": 212,
   "metadata": {},
   "outputs": [],
   "source": [
    "# imports\n",
    "\n",
    "import numpy as np\n",
    "import pandas as pd\n",
    "import matplotlib.pyplot as plt\n",
    "import seaborn as sn\n",
    "from sklearn.cluster import KMeans\n",
    "from sklearn.model_selection import train_test_split\n",
    "from sklearn.neighbors import KNeighborsClassifier\n",
    "from sklearn.metrics import accuracy_score\n",
    "from sklearn.model_selection import cross_val_score\n",
    "from sklearn import preprocessing\n",
    "from sklearn import metrics\n",
    "from sklearn.tree import DecisionTreeClassifier\n",
    "from sklearn.linear_model import LogisticRegression\n",
    "from sklearn.linear_model import LinearRegression\n",
    "from sklearn.metrics import confusion_matrix\n",
    "from sklearn.ensemble import RandomForestClassifier\n"
   ]
  },
  {
   "cell_type": "markdown",
   "metadata": {},
   "source": [
    "- Now we will create the Pandas Dataframe and read from the csv data"
   ]
  },
  {
   "cell_type": "markdown",
   "metadata": {},
   "source": [
    "#### DATA.CSV"
   ]
  },
  {
   "cell_type": "markdown",
   "metadata": {},
   "source": [
    "- First we will import the primary data csv file into a pandas dataframe. \n",
    "- Then we will limit the data frame to years begining in 2012 and ending in 2019. We start this in 2012 because that is when spotify created these features, otherwise there may not be feature values for older dates, also what was popular in the 90s, 80s, or even the 1960's will not necessarily be popular today. \n",
    "- Additionally, we limit the max year to 2019, because we may want to test the algorithm on songs from 2020 to see how accurate our predictions are. \n",
    "- Finally we print the first 5 rows of the data to make sure we are getting values."
   ]
  },
  {
   "cell_type": "code",
   "execution_count": 229,
   "metadata": {
    "scrolled": true
   },
   "outputs": [
    {
     "data": {
      "text/html": [
       "<div>\n",
       "<style scoped>\n",
       "    .dataframe tbody tr th:only-of-type {\n",
       "        vertical-align: middle;\n",
       "    }\n",
       "\n",
       "    .dataframe tbody tr th {\n",
       "        vertical-align: top;\n",
       "    }\n",
       "\n",
       "    .dataframe thead th {\n",
       "        text-align: right;\n",
       "    }\n",
       "</style>\n",
       "<table border=\"1\" class=\"dataframe\">\n",
       "  <thead>\n",
       "    <tr style=\"text-align: right;\">\n",
       "      <th></th>\n",
       "      <th>acousticness</th>\n",
       "      <th>artists</th>\n",
       "      <th>danceability</th>\n",
       "      <th>duration_ms</th>\n",
       "      <th>energy</th>\n",
       "      <th>explicit</th>\n",
       "      <th>id</th>\n",
       "      <th>instrumentalness</th>\n",
       "      <th>key</th>\n",
       "      <th>liveness</th>\n",
       "      <th>loudness</th>\n",
       "      <th>mode</th>\n",
       "      <th>name</th>\n",
       "      <th>popularity</th>\n",
       "      <th>release_date</th>\n",
       "      <th>speechiness</th>\n",
       "      <th>tempo</th>\n",
       "      <th>valence</th>\n",
       "      <th>year</th>\n",
       "    </tr>\n",
       "  </thead>\n",
       "  <tbody>\n",
       "    <tr>\n",
       "      <th>7254</th>\n",
       "      <td>0.209000</td>\n",
       "      <td>['Lana Del Rey']</td>\n",
       "      <td>0.180</td>\n",
       "      <td>286253</td>\n",
       "      <td>0.636</td>\n",
       "      <td>0</td>\n",
       "      <td>3eRZZ4d2RJSqFKzP7tSdFE</td>\n",
       "      <td>0.000133</td>\n",
       "      <td>4</td>\n",
       "      <td>0.217</td>\n",
       "      <td>-6.591</td>\n",
       "      <td>0</td>\n",
       "      <td>Born To Die</td>\n",
       "      <td>49</td>\n",
       "      <td>2012-01-30</td>\n",
       "      <td>0.0438</td>\n",
       "      <td>75.632</td>\n",
       "      <td>0.390</td>\n",
       "      <td>2012</td>\n",
       "    </tr>\n",
       "    <tr>\n",
       "      <th>7255</th>\n",
       "      <td>0.038500</td>\n",
       "      <td>['Lindsey Stirling']</td>\n",
       "      <td>0.423</td>\n",
       "      <td>247422</td>\n",
       "      <td>0.746</td>\n",
       "      <td>0</td>\n",
       "      <td>5Q5sQ1AgLQ1wKKXIYt6FGC</td>\n",
       "      <td>0.000013</td>\n",
       "      <td>0</td>\n",
       "      <td>0.210</td>\n",
       "      <td>-6.912</td>\n",
       "      <td>1</td>\n",
       "      <td>Elements</td>\n",
       "      <td>49</td>\n",
       "      <td>2012</td>\n",
       "      <td>0.0582</td>\n",
       "      <td>139.804</td>\n",
       "      <td>0.214</td>\n",
       "      <td>2012</td>\n",
       "    </tr>\n",
       "    <tr>\n",
       "      <th>7256</th>\n",
       "      <td>0.059100</td>\n",
       "      <td>['The Avett Brothers']</td>\n",
       "      <td>0.512</td>\n",
       "      <td>255013</td>\n",
       "      <td>0.465</td>\n",
       "      <td>0</td>\n",
       "      <td>6B6C1OC9RUvrvBECPWtAZo</td>\n",
       "      <td>0.000031</td>\n",
       "      <td>4</td>\n",
       "      <td>0.112</td>\n",
       "      <td>-7.144</td>\n",
       "      <td>1</td>\n",
       "      <td>February Seven</td>\n",
       "      <td>48</td>\n",
       "      <td>2012-01-01</td>\n",
       "      <td>0.0253</td>\n",
       "      <td>137.892</td>\n",
       "      <td>0.267</td>\n",
       "      <td>2012</td>\n",
       "    </tr>\n",
       "    <tr>\n",
       "      <th>7257</th>\n",
       "      <td>0.017800</td>\n",
       "      <td>['Nicki Minaj', 'Chris Brown']</td>\n",
       "      <td>0.569</td>\n",
       "      <td>265333</td>\n",
       "      <td>0.858</td>\n",
       "      <td>1</td>\n",
       "      <td>2bgW1SJqUjIkWcbxTPTIdy</td>\n",
       "      <td>0.000000</td>\n",
       "      <td>1</td>\n",
       "      <td>0.127</td>\n",
       "      <td>-4.847</td>\n",
       "      <td>1</td>\n",
       "      <td>Right By My Side</td>\n",
       "      <td>55</td>\n",
       "      <td>2012-01-01</td>\n",
       "      <td>0.2680</td>\n",
       "      <td>161.921</td>\n",
       "      <td>0.495</td>\n",
       "      <td>2012</td>\n",
       "    </tr>\n",
       "    <tr>\n",
       "      <th>7258</th>\n",
       "      <td>0.000088</td>\n",
       "      <td>['deadmau5', 'Gerard Way']</td>\n",
       "      <td>0.730</td>\n",
       "      <td>243750</td>\n",
       "      <td>0.511</td>\n",
       "      <td>0</td>\n",
       "      <td>2AqazcPtVXn7uhFIyInNNp</td>\n",
       "      <td>0.273000</td>\n",
       "      <td>1</td>\n",
       "      <td>0.247</td>\n",
       "      <td>-5.198</td>\n",
       "      <td>1</td>\n",
       "      <td>Professional Griefers - Vocal Mix</td>\n",
       "      <td>51</td>\n",
       "      <td>2012-09-25</td>\n",
       "      <td>0.0712</td>\n",
       "      <td>128.025</td>\n",
       "      <td>0.644</td>\n",
       "      <td>2012</td>\n",
       "    </tr>\n",
       "  </tbody>\n",
       "</table>\n",
       "</div>"
      ],
      "text/plain": [
       "      acousticness                         artists  danceability  duration_ms  \\\n",
       "7254      0.209000                ['Lana Del Rey']         0.180       286253   \n",
       "7255      0.038500            ['Lindsey Stirling']         0.423       247422   \n",
       "7256      0.059100          ['The Avett Brothers']         0.512       255013   \n",
       "7257      0.017800  ['Nicki Minaj', 'Chris Brown']         0.569       265333   \n",
       "7258      0.000088      ['deadmau5', 'Gerard Way']         0.730       243750   \n",
       "\n",
       "      energy  explicit                      id  instrumentalness  key  \\\n",
       "7254   0.636         0  3eRZZ4d2RJSqFKzP7tSdFE          0.000133    4   \n",
       "7255   0.746         0  5Q5sQ1AgLQ1wKKXIYt6FGC          0.000013    0   \n",
       "7256   0.465         0  6B6C1OC9RUvrvBECPWtAZo          0.000031    4   \n",
       "7257   0.858         1  2bgW1SJqUjIkWcbxTPTIdy          0.000000    1   \n",
       "7258   0.511         0  2AqazcPtVXn7uhFIyInNNp          0.273000    1   \n",
       "\n",
       "      liveness  loudness  mode                               name  popularity  \\\n",
       "7254     0.217    -6.591     0                        Born To Die          49   \n",
       "7255     0.210    -6.912     1                           Elements          49   \n",
       "7256     0.112    -7.144     1                     February Seven          48   \n",
       "7257     0.127    -4.847     1                   Right By My Side          55   \n",
       "7258     0.247    -5.198     1  Professional Griefers - Vocal Mix          51   \n",
       "\n",
       "     release_date  speechiness    tempo  valence  year  \n",
       "7254   2012-01-30       0.0438   75.632    0.390  2012  \n",
       "7255         2012       0.0582  139.804    0.214  2012  \n",
       "7256   2012-01-01       0.0253  137.892    0.267  2012  \n",
       "7257   2012-01-01       0.2680  161.921    0.495  2012  \n",
       "7258   2012-09-25       0.0712  128.025    0.644  2012  "
      ]
     },
     "execution_count": 229,
     "metadata": {},
     "output_type": "execute_result"
    }
   ],
   "source": [
    "# create pandas dataframe from the csv file\n",
    "data = pd.DataFrame()\n",
    "data = pd.read_csv(\"../CSV Data Sets/data.csv\")\n",
    "\n",
    "# limit the dataframe to years 2012 - 2019\n",
    "data = data[data.year.between(2012, 2019)]\n",
    "\n",
    "# print the first 5 rows\n",
    "data.head()"
   ]
  },
  {
   "cell_type": "markdown",
   "metadata": {},
   "source": [
    "- Now we will create a new column, \"binary_popularity\" that will contain the values 1 if popular, 0 if not. We will define our \"true\" popularity as being > 50, and our \"false\" popularity <= 50. This will be used as our label"
   ]
  },
  {
   "cell_type": "code",
   "execution_count": 230,
   "metadata": {},
   "outputs": [
    {
     "data": {
      "text/html": [
       "<div>\n",
       "<style scoped>\n",
       "    .dataframe tbody tr th:only-of-type {\n",
       "        vertical-align: middle;\n",
       "    }\n",
       "\n",
       "    .dataframe tbody tr th {\n",
       "        vertical-align: top;\n",
       "    }\n",
       "\n",
       "    .dataframe thead th {\n",
       "        text-align: right;\n",
       "    }\n",
       "</style>\n",
       "<table border=\"1\" class=\"dataframe\">\n",
       "  <thead>\n",
       "    <tr style=\"text-align: right;\">\n",
       "      <th></th>\n",
       "      <th>acousticness</th>\n",
       "      <th>artists</th>\n",
       "      <th>danceability</th>\n",
       "      <th>duration_ms</th>\n",
       "      <th>energy</th>\n",
       "      <th>explicit</th>\n",
       "      <th>id</th>\n",
       "      <th>instrumentalness</th>\n",
       "      <th>key</th>\n",
       "      <th>liveness</th>\n",
       "      <th>loudness</th>\n",
       "      <th>mode</th>\n",
       "      <th>name</th>\n",
       "      <th>popularity</th>\n",
       "      <th>release_date</th>\n",
       "      <th>speechiness</th>\n",
       "      <th>tempo</th>\n",
       "      <th>valence</th>\n",
       "      <th>year</th>\n",
       "      <th>binary_popularity</th>\n",
       "    </tr>\n",
       "  </thead>\n",
       "  <tbody>\n",
       "    <tr>\n",
       "      <th>7254</th>\n",
       "      <td>0.209000</td>\n",
       "      <td>['Lana Del Rey']</td>\n",
       "      <td>0.180</td>\n",
       "      <td>286253</td>\n",
       "      <td>0.636</td>\n",
       "      <td>0</td>\n",
       "      <td>3eRZZ4d2RJSqFKzP7tSdFE</td>\n",
       "      <td>0.000133</td>\n",
       "      <td>4</td>\n",
       "      <td>0.217</td>\n",
       "      <td>-6.591</td>\n",
       "      <td>0</td>\n",
       "      <td>Born To Die</td>\n",
       "      <td>49</td>\n",
       "      <td>2012-01-30</td>\n",
       "      <td>0.0438</td>\n",
       "      <td>75.632</td>\n",
       "      <td>0.390</td>\n",
       "      <td>2012</td>\n",
       "      <td>0</td>\n",
       "    </tr>\n",
       "    <tr>\n",
       "      <th>7255</th>\n",
       "      <td>0.038500</td>\n",
       "      <td>['Lindsey Stirling']</td>\n",
       "      <td>0.423</td>\n",
       "      <td>247422</td>\n",
       "      <td>0.746</td>\n",
       "      <td>0</td>\n",
       "      <td>5Q5sQ1AgLQ1wKKXIYt6FGC</td>\n",
       "      <td>0.000013</td>\n",
       "      <td>0</td>\n",
       "      <td>0.210</td>\n",
       "      <td>-6.912</td>\n",
       "      <td>1</td>\n",
       "      <td>Elements</td>\n",
       "      <td>49</td>\n",
       "      <td>2012</td>\n",
       "      <td>0.0582</td>\n",
       "      <td>139.804</td>\n",
       "      <td>0.214</td>\n",
       "      <td>2012</td>\n",
       "      <td>0</td>\n",
       "    </tr>\n",
       "    <tr>\n",
       "      <th>7256</th>\n",
       "      <td>0.059100</td>\n",
       "      <td>['The Avett Brothers']</td>\n",
       "      <td>0.512</td>\n",
       "      <td>255013</td>\n",
       "      <td>0.465</td>\n",
       "      <td>0</td>\n",
       "      <td>6B6C1OC9RUvrvBECPWtAZo</td>\n",
       "      <td>0.000031</td>\n",
       "      <td>4</td>\n",
       "      <td>0.112</td>\n",
       "      <td>-7.144</td>\n",
       "      <td>1</td>\n",
       "      <td>February Seven</td>\n",
       "      <td>48</td>\n",
       "      <td>2012-01-01</td>\n",
       "      <td>0.0253</td>\n",
       "      <td>137.892</td>\n",
       "      <td>0.267</td>\n",
       "      <td>2012</td>\n",
       "      <td>0</td>\n",
       "    </tr>\n",
       "    <tr>\n",
       "      <th>7257</th>\n",
       "      <td>0.017800</td>\n",
       "      <td>['Nicki Minaj', 'Chris Brown']</td>\n",
       "      <td>0.569</td>\n",
       "      <td>265333</td>\n",
       "      <td>0.858</td>\n",
       "      <td>1</td>\n",
       "      <td>2bgW1SJqUjIkWcbxTPTIdy</td>\n",
       "      <td>0.000000</td>\n",
       "      <td>1</td>\n",
       "      <td>0.127</td>\n",
       "      <td>-4.847</td>\n",
       "      <td>1</td>\n",
       "      <td>Right By My Side</td>\n",
       "      <td>55</td>\n",
       "      <td>2012-01-01</td>\n",
       "      <td>0.2680</td>\n",
       "      <td>161.921</td>\n",
       "      <td>0.495</td>\n",
       "      <td>2012</td>\n",
       "      <td>1</td>\n",
       "    </tr>\n",
       "    <tr>\n",
       "      <th>7258</th>\n",
       "      <td>0.000088</td>\n",
       "      <td>['deadmau5', 'Gerard Way']</td>\n",
       "      <td>0.730</td>\n",
       "      <td>243750</td>\n",
       "      <td>0.511</td>\n",
       "      <td>0</td>\n",
       "      <td>2AqazcPtVXn7uhFIyInNNp</td>\n",
       "      <td>0.273000</td>\n",
       "      <td>1</td>\n",
       "      <td>0.247</td>\n",
       "      <td>-5.198</td>\n",
       "      <td>1</td>\n",
       "      <td>Professional Griefers - Vocal Mix</td>\n",
       "      <td>51</td>\n",
       "      <td>2012-09-25</td>\n",
       "      <td>0.0712</td>\n",
       "      <td>128.025</td>\n",
       "      <td>0.644</td>\n",
       "      <td>2012</td>\n",
       "      <td>1</td>\n",
       "    </tr>\n",
       "  </tbody>\n",
       "</table>\n",
       "</div>"
      ],
      "text/plain": [
       "      acousticness                         artists  danceability  duration_ms  \\\n",
       "7254      0.209000                ['Lana Del Rey']         0.180       286253   \n",
       "7255      0.038500            ['Lindsey Stirling']         0.423       247422   \n",
       "7256      0.059100          ['The Avett Brothers']         0.512       255013   \n",
       "7257      0.017800  ['Nicki Minaj', 'Chris Brown']         0.569       265333   \n",
       "7258      0.000088      ['deadmau5', 'Gerard Way']         0.730       243750   \n",
       "\n",
       "      energy  explicit                      id  instrumentalness  key  \\\n",
       "7254   0.636         0  3eRZZ4d2RJSqFKzP7tSdFE          0.000133    4   \n",
       "7255   0.746         0  5Q5sQ1AgLQ1wKKXIYt6FGC          0.000013    0   \n",
       "7256   0.465         0  6B6C1OC9RUvrvBECPWtAZo          0.000031    4   \n",
       "7257   0.858         1  2bgW1SJqUjIkWcbxTPTIdy          0.000000    1   \n",
       "7258   0.511         0  2AqazcPtVXn7uhFIyInNNp          0.273000    1   \n",
       "\n",
       "      liveness  loudness  mode                               name  popularity  \\\n",
       "7254     0.217    -6.591     0                        Born To Die          49   \n",
       "7255     0.210    -6.912     1                           Elements          49   \n",
       "7256     0.112    -7.144     1                     February Seven          48   \n",
       "7257     0.127    -4.847     1                   Right By My Side          55   \n",
       "7258     0.247    -5.198     1  Professional Griefers - Vocal Mix          51   \n",
       "\n",
       "     release_date  speechiness    tempo  valence  year  binary_popularity  \n",
       "7254   2012-01-30       0.0438   75.632    0.390  2012                  0  \n",
       "7255         2012       0.0582  139.804    0.214  2012                  0  \n",
       "7256   2012-01-01       0.0253  137.892    0.267  2012                  0  \n",
       "7257   2012-01-01       0.2680  161.921    0.495  2012                  1  \n",
       "7258   2012-09-25       0.0712  128.025    0.644  2012                  1  "
      ]
     },
     "execution_count": 230,
     "metadata": {},
     "output_type": "execute_result"
    }
   ],
   "source": [
    "# create a new column \"binary_popularity\" containing 1 for popularity values > 50, else it will be set to 0\n",
    "data['binary_popularity'] = np.where(data['popularity'] > 50, 1, 0)\n",
    "\n",
    "# print first 5 rows\n",
    "data.head()"
   ]
  },
  {
   "cell_type": "markdown",
   "metadata": {},
   "source": [
    "- We can see that our binary-popularity column is working properly, now we can move onto some classification methods"
   ]
  },
  {
   "cell_type": "markdown",
   "metadata": {},
   "source": [
    "-------------------------------------------------------------------------------------------------------------------\n",
    "## 3.) KNN\n",
    "-------------------------------------------------------------------------------------------------------------------"
   ]
  },
  {
   "cell_type": "markdown",
   "metadata": {},
   "source": [
    "#### A.) Get knn accuracy for each individual feature"
   ]
  },
  {
   "cell_type": "markdown",
   "metadata": {},
   "source": [
    "- First we'll create the feature list"
   ]
  },
  {
   "cell_type": "code",
   "execution_count": 231,
   "metadata": {},
   "outputs": [],
   "source": [
    "# create a list of features from the dataset:\n",
    "features = ['acousticness', 'danceability', 'energy', 'instrumentalness', 'liveness', 'speechiness', 'valence']"
   ]
  },
  {
   "cell_type": "markdown",
   "metadata": {},
   "source": [
    "- Now we'll iterate through each feature, while separating the testing and training data, scaling the data, using KNN with k = 5, and print the acuracy scores for each prediction."
   ]
  },
  {
   "cell_type": "code",
   "execution_count": 232,
   "metadata": {
    "scrolled": true
   },
   "outputs": [
    {
     "name": "stdout",
     "output_type": "stream",
     "text": [
      "[['acousticness', 0.8865408805031446], ['danceability', 0.8757232704402516], ['energy', 0.8827672955974842], ['instrumentalness', 0.8923270440251573], ['liveness', 0.8877987421383647], ['speechiness', 0.8885534591194969], ['valence', 0.8852830188679245]]\n"
     ]
    }
   ],
   "source": [
    "# create three empty lists, 1 will hold the accuracy scores, the other two will be used for creatinga graph\n",
    "scores= []\n",
    "fNames = []\n",
    "values = []\n",
    "\n",
    "# check knn for every feature in our features list to see which performs best\n",
    "for feature in features:\n",
    "    \n",
    "    # create the feature matrix\n",
    "    X = data[[feature]]\n",
    "    \n",
    "    # scale the feature matrix\n",
    "    X_scaled = preprocessing.scale(X)\n",
    "    \n",
    "    #create the label vector\n",
    "    y = data['binary_popularity']\n",
    "    \n",
    "    # split our testing and training values using test-size 25% and random state 6\n",
    "    X_train, X_test, y_train, y_test = train_test_split(X_scaled, y, test_size=0.25, random_state=6)\n",
    "    \n",
    "    # use sklearn's KNN class with k = 5\n",
    "    knn = KNeighborsClassifier(n_neighbors=5)\n",
    "    \n",
    "    # run the KNN algorithm on our training data\n",
    "    knn.fit(X_train, y_train)\n",
    "    \n",
    "    # run our prediction based on our KNN algorithm\n",
    "    y_predict = knn.predict(X_test)\n",
    "    \n",
    "    # check the accuracy of our prediction\n",
    "    accuracy = accuracy_score(y_test, y_predict)\n",
    "    \n",
    "    #append to our scores list the feature used and its accuracy\n",
    "    scores.append([feature, accuracy])\n",
    "    \n",
    "    # append the accuracy and feature to our 2 other lists that we can use for our graph\n",
    "    values.append(accuracy)\n",
    "    fNames.append(feature)\n",
    "    \n",
    "# print the scores to evaluate\n",
    "print(scores)"
   ]
  },
  {
   "cell_type": "markdown",
   "metadata": {},
   "source": [
    "- We can plot the data to visually compare the accuracy scores"
   ]
  },
  {
   "cell_type": "code",
   "execution_count": 233,
   "metadata": {
    "scrolled": false
   },
   "outputs": [
    {
     "data": {
      "image/png": "[encoded data removed]",
      "text/plain": [
       "<Figure size 1440x720 with 1 Axes>"
      ]
     },
     "metadata": {
      "needs_background": "light"
     },
     "output_type": "display_data"
    }
   ],
   "source": [
    "# keep the figures inside the explorer page \n",
    "%matplotlib inline\n",
    "\n",
    "# set the height and width of the graph\n",
    "fig = plt.figure(figsize=(20, 10))\n",
    "\n",
    "# add the axises and set the limit to between .8 and .85\n",
    "ax = fig.add_axes([0,0,1,1])\n",
    "ax.set_ylim(0.8, 1)\n",
    "\n",
    "# set the y and x axis with the lists created above\n",
    "ax.bar(fNames,values)\n",
    "\n",
    "# print the graph\n",
    "plt.show()"
   ]
  },
  {
   "cell_type": "markdown",
   "metadata": {},
   "source": [
    "- So far it looks like instrumentalness will be a key feature in our classifiers. Of course this makes sense, how many popular songs are instrumental?"
   ]
  },
  {
   "cell_type": "markdown",
   "metadata": {},
   "source": [
    "#### B.) KNN with different K values"
   ]
  },
  {
   "cell_type": "markdown",
   "metadata": {},
   "source": [
    "- Now we'd like to try different K values to see if accuracy can be improved. \n",
    "- We can also test the different k values on each feature, to see if a k-value with a specific feature is better/worse"
   ]
  },
  {
   "cell_type": "code",
   "execution_count": 234,
   "metadata": {
    "scrolled": true
   },
   "outputs": [
    {
     "name": "stdout",
     "output_type": "stream",
     "text": [
      "acousticness k=1 - 0.8155974842767295 accuracy\n",
      "acousticness k=5 - 0.8865408805031446 accuracy\n",
      "acousticness k=7 - 0.8918238993710692 accuracy\n",
      "acousticness k=11 - 0.8940880503144654 accuracy\n",
      "acousticness k=15 - 0.8943396226415095 accuracy\n",
      "acousticness k=27 - 0.8943396226415095 accuracy\n",
      "acousticness k=59 - 0.8943396226415095 accuracy\n",
      "danceability k=1 - 0.8148427672955975 accuracy\n",
      "danceability k=5 - 0.8757232704402516 accuracy\n",
      "danceability k=7 - 0.8905660377358491 accuracy\n",
      "danceability k=11 - 0.8943396226415095 accuracy\n",
      "danceability k=15 - 0.8943396226415095 accuracy\n",
      "danceability k=27 - 0.8943396226415095 accuracy\n",
      "danceability k=59 - 0.8943396226415095 accuracy\n",
      "energy k=1 - 0.7987421383647799 accuracy\n",
      "energy k=5 - 0.8827672955974842 accuracy\n",
      "energy k=7 - 0.8880503144654088 accuracy\n",
      "energy k=11 - 0.8943396226415095 accuracy\n",
      "energy k=15 - 0.8943396226415095 accuracy\n",
      "energy k=27 - 0.8943396226415095 accuracy\n",
      "energy k=59 - 0.8943396226415095 accuracy\n",
      "instrumentalness k=1 - 0.8465408805031447 accuracy\n",
      "instrumentalness k=5 - 0.8923270440251573 accuracy\n",
      "instrumentalness k=7 - 0.8938364779874214 accuracy\n",
      "instrumentalness k=11 - 0.8943396226415095 accuracy\n",
      "instrumentalness k=15 - 0.8943396226415095 accuracy\n",
      "instrumentalness k=27 - 0.8943396226415095 accuracy\n",
      "instrumentalness k=59 - 0.8943396226415095 accuracy\n",
      "liveness k=1 - 0.8052830188679245 accuracy\n",
      "liveness k=5 - 0.8877987421383647 accuracy\n",
      "liveness k=7 - 0.8930817610062893 accuracy\n",
      "liveness k=11 - 0.8943396226415095 accuracy\n",
      "liveness k=15 - 0.8943396226415095 accuracy\n",
      "liveness k=27 - 0.8943396226415095 accuracy\n",
      "liveness k=59 - 0.8943396226415095 accuracy\n",
      "speechiness k=1 - 0.8133333333333334 accuracy\n",
      "speechiness k=5 - 0.8885534591194969 accuracy\n",
      "speechiness k=7 - 0.8940880503144654 accuracy\n",
      "speechiness k=11 - 0.8943396226415095 accuracy\n",
      "speechiness k=15 - 0.8943396226415095 accuracy\n",
      "speechiness k=27 - 0.8943396226415095 accuracy\n",
      "speechiness k=59 - 0.8943396226415095 accuracy\n",
      "valence k=1 - 0.8148427672955975 accuracy\n",
      "valence k=5 - 0.8852830188679245 accuracy\n",
      "valence k=7 - 0.8940880503144654 accuracy\n",
      "valence k=11 - 0.8943396226415095 accuracy\n",
      "valence k=15 - 0.8943396226415095 accuracy\n",
      "valence k=27 - 0.8943396226415095 accuracy\n",
      "valence k=59 - 0.8943396226415095 accuracy\n"
     ]
    }
   ],
   "source": [
    "# create a list of different k values to see how our accuracy changes\n",
    "ks = [1, 5, 7, 11, 15, 27, 59]\n",
    "\n",
    "# go through each feature again, but this time test different k values for each feature\n",
    "# see comments above for full explanation of methods\n",
    "for feature in features:\n",
    "    X = data[[feature]]\n",
    "    X_scaled = preprocessing.scale(X)\n",
    "    y = data['binary_popularity']\n",
    "    X_train, X_test, y_train, y_test = train_test_split(X_scaled, y, test_size=0.25, random_state=6)\n",
    "    \n",
    "    # here is where we will iterate thorough each k value (in our k list) with each feature\n",
    "    for k in ks: \n",
    "        knn = KNeighborsClassifier(n_neighbors=k) \n",
    "        knn.fit(X_train, y_train)\n",
    "        y_predict = knn.predict(X_test)\n",
    "        accuracy = accuracy_score(y_test, y_predict)\n",
    "        print(f\"{feature} k={k} - {accuracy} accuracy\")"
   ]
  },
  {
   "cell_type": "markdown",
   "metadata": {},
   "source": [
    "#### C.) KNN with entire feature matrix"
   ]
  },
  {
   "cell_type": "markdown",
   "metadata": {},
   "source": [
    "- From the above results we can see that our best performing k values for each feature are around 11. \n",
    "- Now we will test the entire features matrix with k values between 10 and 20 to find our final k value we will use"
   ]
  },
  {
   "cell_type": "code",
   "execution_count": 235,
   "metadata": {},
   "outputs": [
    {
     "name": "stdout",
     "output_type": "stream",
     "text": [
      "k=10 - 0.890062893081761 accuracy\n",
      "k=11 - 0.8928301886792452 accuracy\n",
      "k=12 - 0.8925786163522013 accuracy\n",
      "k=13 - 0.8940880503144654 accuracy\n",
      "k=14 - 0.8935849056603774 accuracy\n",
      "k=15 - 0.8938364779874214 accuracy\n",
      "k=16 - 0.8938364779874214 accuracy\n",
      "k=17 - 0.8943396226415095 accuracy\n",
      "k=18 - 0.8943396226415095 accuracy\n",
      "k=19 - 0.8943396226415095 accuracy\n",
      "k=20 - 0.8943396226415095 accuracy\n"
     ]
    }
   ],
   "source": [
    "# see comments above for full explanation of methods\n",
    "X = data[features]\n",
    "X_scaled = preprocessing.scale(X)\n",
    "y = data['binary_popularity']\n",
    "X_train, X_test, y_train, y_test = train_test_split(X_scaled, y, test_size=0.25, random_state=6)\n",
    "\n",
    "# our K's to test, between 10 and 20\n",
    "ks = [10, 11, 12, 13, 14, 15, 16, 17, 18, 19, 20]\n",
    "\n",
    "# run the fitting again and get accuracies\n",
    "for k in ks: \n",
    "    knn = KNeighborsClassifier(n_neighbors=k) \n",
    "    knn.fit(X_train, y_train)\n",
    "    y_predict = knn.predict(X_test)\n",
    "    accuracy = accuracy_score(y_test, y_predict)\n",
    "    print(f\"k={k} - {accuracy} accuracy\")\n",
    "\n"
   ]
  },
  {
   "cell_type": "markdown",
   "metadata": {},
   "source": [
    "- Here we can see that after k = 17, our prediction doesn't get better so we will let k = 17. \n",
    "- Now we will use cross validation (10 fold), to see if we can improve our accuracy. \n",
    "- We then print a list to evaluate."
   ]
  },
  {
   "cell_type": "code",
   "execution_count": 236,
   "metadata": {},
   "outputs": [
    {
     "name": "stdout",
     "output_type": "stream",
     "text": [
      "[0.89371069 0.89371069 0.89371069 0.89371069 0.89371069 0.89371069\n",
      " 0.89371069 0.89371069 0.89371069 0.89371069]\n"
     ]
    }
   ],
   "source": [
    "# set k to 17\n",
    "knn = KNeighborsClassifier(n_neighbors=17)\n",
    "\n",
    "# use 10-fold cross evaluation and print a list of our accuracy scores\n",
    "accuracy_list = cross_val_score(knn, X_scaled, y, cv=10, scoring='accuracy')\n",
    "print(accuracy_list)"
   ]
  },
  {
   "cell_type": "markdown",
   "metadata": {},
   "source": [
    "- Now we will get the average of the accuracy list to find a final accuracy number"
   ]
  },
  {
   "cell_type": "code",
   "execution_count": 237,
   "metadata": {
    "scrolled": true
   },
   "outputs": [
    {
     "name": "stdout",
     "output_type": "stream",
     "text": [
      "0.8937106918238994\n"
     ]
    }
   ],
   "source": [
    "# use average of accuracy values as final result\n",
    "accuracy_cv = accuracy_list.mean()\n",
    "\n",
    "# print final result\n",
    "print(accuracy_cv)"
   ]
  },
  {
   "cell_type": "markdown",
   "metadata": {},
   "source": [
    "#### D.) KNN with 2-feature combination"
   ]
  },
  {
   "cell_type": "markdown",
   "metadata": {},
   "source": [
    "- Our cross evaluation gives us slightly less accuracy than running our regular KNN algorithm with the entire feature matrix with k = 17. \n",
    "- Now we will try to see if a 2-feature combination can perform better than a single feature or an entire feature matrix"
   ]
  },
  {
   "cell_type": "code",
   "execution_count": 238,
   "metadata": {
    "scrolled": true
   },
   "outputs": [
    {
     "name": "stdout",
     "output_type": "stream",
     "text": [
      "[['acousticness', 'danceability', 0.8943396226415095], ['acousticness', 'energy', 0.8940880503144654], ['acousticness', 'instrumentalness', 0.8943396226415095], ['acousticness', 'liveness', 0.8943396226415095], ['acousticness', 'speechiness', 0.8940880503144654], ['acousticness', 'valence', 0.8943396226415095], ['danceability', 'acousticness', 0.8943396226415095], ['danceability', 'energy', 0.8930817610062893], ['danceability', 'instrumentalness', 0.8943396226415095], ['danceability', 'liveness', 0.8943396226415095], ['danceability', 'speechiness', 0.8935849056603774], ['danceability', 'valence', 0.8940880503144654], ['energy', 'acousticness', 0.8940880503144654], ['energy', 'danceability', 0.8930817610062893], ['energy', 'instrumentalness', 0.8940880503144654], ['energy', 'liveness', 0.8940880503144654], ['energy', 'speechiness', 0.8938364779874214], ['energy', 'valence', 0.8943396226415095], ['instrumentalness', 'acousticness', 0.8943396226415095], ['instrumentalness', 'danceability', 0.8943396226415095], ['instrumentalness', 'energy', 0.8940880503144654], ['instrumentalness', 'liveness', 0.8943396226415095], ['instrumentalness', 'speechiness', 0.8943396226415095], ['instrumentalness', 'valence', 0.8943396226415095], ['liveness', 'acousticness', 0.8943396226415095], ['liveness', 'danceability', 0.8943396226415095], ['liveness', 'energy', 0.8940880503144654], ['liveness', 'instrumentalness', 0.8943396226415095], ['liveness', 'speechiness', 0.8943396226415095], ['liveness', 'valence', 0.8943396226415095], ['speechiness', 'acousticness', 0.8940880503144654], ['speechiness', 'danceability', 0.8935849056603774], ['speechiness', 'energy', 0.8938364779874214], ['speechiness', 'instrumentalness', 0.8943396226415095], ['speechiness', 'liveness', 0.8943396226415095], ['speechiness', 'valence', 0.8943396226415095], ['valence', 'acousticness', 0.8943396226415095], ['valence', 'danceability', 0.8940880503144654], ['valence', 'energy', 0.8943396226415095], ['valence', 'instrumentalness', 0.8943396226415095], ['valence', 'liveness', 0.8943396226415095], ['valence', 'speechiness', 0.8943396226415095]]\n"
     ]
    }
   ],
   "source": [
    "# see code comments above for detailed descriptions of these lists\n",
    "scores=[]\n",
    "fNames = []\n",
    "values = []\n",
    "\n",
    "# the difference here is we use 2 for loops to try every combination of 2 features from our feature list\n",
    "#  we keep our 2 additional lists so we can again make a graph for evaluation.\n",
    "for i in features:\n",
    "    for j in features:\n",
    "        if not i == j:\n",
    "            X = data[[i, j]]\n",
    "            X_scaled = preprocessing.scale(X)\n",
    "            y = data['binary_popularity']\n",
    "            X_train, X_test, y_train, y_test = train_test_split(X_scaled, y, test_size=0.25, random_state=6)\n",
    "            k = 17\n",
    "            knn = KNeighborsClassifier(n_neighbors=k)\n",
    "            knn.fit(X_train, y_train)\n",
    "            y_predict = knn.predict(X_test)\n",
    "            accuracy = accuracy_score(y_test, y_predict)\n",
    "            scores.append([i, j, accuracy])\n",
    "            values.append(accuracy)\n",
    "            group = i + ' & ' +j\n",
    "            fNames.append(group)\n",
    "\n",
    "print(scores)"
   ]
  },
  {
   "cell_type": "markdown",
   "metadata": {},
   "source": [
    "- Now we can again graph the data to visualize it."
   ]
  },
  {
   "cell_type": "code",
   "execution_count": 239,
   "metadata": {
    "scrolled": true
   },
   "outputs": [
    {
     "data": {
      "image/png": "[encoded data removed]",
      "text/plain": [
       "<Figure size 720x2880 with 1 Axes>"
      ]
     },
     "metadata": {
      "needs_background": "light"
     },
     "output_type": "display_data"
    }
   ],
   "source": [
    "# keep the figures inside the explorer page \n",
    "%matplotlib inline\n",
    "\n",
    "# see comments from previous graph. Here, however, we use barh = horizontal graph\n",
    "fig = plt.figure(figsize=(10, 40))\n",
    "ax = fig.add_axes([0,0,1,1])\n",
    "ax.set_xlim(0.84, 0.9)\n",
    "\n",
    "# here is where we make the graph horizontal\n",
    "ax.barh(fNames,values)\n",
    "plt.show()"
   ]
  },
  {
   "cell_type": "markdown",
   "metadata": {},
   "source": [
    "- Here we see our best accuracy score for the pairs, matches our score for the entrire feature matrix, so we can keep our feature matrix in full"
   ]
  },
  {
   "cell_type": "markdown",
   "metadata": {},
   "source": [
    "#### E.) KNN single feature with best performing K"
   ]
  },
  {
   "cell_type": "markdown",
   "metadata": {},
   "source": [
    "- We still can try each individual feature with k = 17 and 10 fold cross-valudation and see if we can improve accuracy."
   ]
  },
  {
   "cell_type": "code",
   "execution_count": 240,
   "metadata": {},
   "outputs": [
    {
     "name": "stdout",
     "output_type": "stream",
     "text": [
      "feature: acousticness, accuracy: 0.8937106918238994\n",
      "feature: danceability, accuracy: 0.8937106918238994\n",
      "feature: energy, accuracy: 0.8930817610062893\n",
      "feature: instrumentalness, accuracy: 0.8936477987421385\n",
      "feature: liveness, accuracy: 0.8937106918238994\n",
      "feature: speechiness, accuracy: 0.8937106918238994\n",
      "feature: valence, accuracy: 0.8937106918238994\n"
     ]
    }
   ],
   "source": [
    "# see code comments above for full commenting, here we try each individual feature \n",
    "# with k= 14 and 10-fold cross validation to see if we can improve our accuracy\n",
    "for feature in features:\n",
    "    X = data[[feature]]\n",
    "    X_scaled = preprocessing.scale(X)\n",
    "    y = data['binary_popularity']\n",
    "    X_train, X_test, y_train, y_test = train_test_split(X_scaled, y, test_size=0.25, random_state=6)\n",
    "    knn = KNeighborsClassifier(n_neighbors=17) \n",
    "    knn.fit(X_train, y_train)\n",
    "    y_predict = knn.predict(X_test)\n",
    "    accuracy_list = cross_val_score(knn, X_scaled, y, cv=10, scoring='accuracy')\n",
    "    accuracy_cv = accuracy_list.mean()\n",
    "    print(f\"feature: {feature}, accuracy: {accuracy_cv}\")"
   ]
  },
  {
   "cell_type": "markdown",
   "metadata": {},
   "source": [
    "#### F.) Make final evaluation"
   ]
  },
  {
   "cell_type": "markdown",
   "metadata": {},
   "source": [
    "- It looks like the best accuracy score we can get is KNN with the full feature matrix and k = 17, This accuracy score is 89.43%"
   ]
  },
  {
   "cell_type": "markdown",
   "metadata": {},
   "source": [
    "-------------------------------------------------------------------------------------------------------------------\n",
    "## 4.) Decision Tree\n",
    "-------------------------------------------------------------------------------------------------------------------"
   ]
  },
  {
   "cell_type": "markdown",
   "metadata": {},
   "source": [
    "- First we create the feature matrix and label vector\n",
    "- Then we create our training data"
   ]
  },
  {
   "cell_type": "code",
   "execution_count": 241,
   "metadata": {},
   "outputs": [],
   "source": [
    "features = ['acousticness', 'danceability', 'energy', 'instrumentalness', 'liveness', 'speechiness', 'valence']\n",
    "X = data[features]\n",
    "X_scaled = preprocessing.scale(X)\n",
    "y = data['binary_popularity']\n",
    "X_train, X_test, y_train, y_test = train_test_split(X_scaled, y, test_size=0.25, random_state=6)"
   ]
  },
  {
   "cell_type": "markdown",
   "metadata": {},
   "source": [
    "#### A.) General case Decision Tree without random_state"
   ]
  },
  {
   "cell_type": "code",
   "execution_count": 242,
   "metadata": {},
   "outputs": [],
   "source": [
    "DT = DecisionTreeClassifier()"
   ]
  },
  {
   "cell_type": "code",
   "execution_count": 243,
   "metadata": {},
   "outputs": [
    {
     "data": {
      "text/plain": [
       "DecisionTreeClassifier()"
      ]
     },
     "execution_count": 243,
     "metadata": {},
     "output_type": "execute_result"
    }
   ],
   "source": [
    "DT.fit(X_train, y_train)"
   ]
  },
  {
   "cell_type": "code",
   "execution_count": 244,
   "metadata": {},
   "outputs": [
    {
     "name": "stdout",
     "output_type": "stream",
     "text": [
      "[1 1 1 ... 1 1 1]\n"
     ]
    }
   ],
   "source": [
    "# Testing on the testing set:\n",
    "\n",
    "y_predict = DT.predict(X_test)\n",
    "\n",
    "print(y_predict)"
   ]
  },
  {
   "cell_type": "code",
   "execution_count": 245,
   "metadata": {},
   "outputs": [
    {
     "name": "stdout",
     "output_type": "stream",
     "text": [
      "0.8077987421383648\n"
     ]
    }
   ],
   "source": [
    "print(accuracy_score(y_test, y_predict))"
   ]
  },
  {
   "cell_type": "markdown",
   "metadata": {},
   "source": [
    "- When using a general Decision tree without random state our accuracy is about 80%"
   ]
  },
  {
   "cell_type": "markdown",
   "metadata": {},
   "source": [
    "#### B.) Decision Tree with random_state"
   ]
  },
  {
   "cell_type": "code",
   "execution_count": 246,
   "metadata": {},
   "outputs": [],
   "source": [
    "X_train, X_test, y_train, y_test = train_test_split(X_scaled, y, test_size=0.25, random_state=6)\n",
    "DT = DecisionTreeClassifier(random_state=10)"
   ]
  },
  {
   "cell_type": "code",
   "execution_count": 247,
   "metadata": {},
   "outputs": [
    {
     "data": {
      "text/plain": [
       "DecisionTreeClassifier(random_state=10)"
      ]
     },
     "execution_count": 247,
     "metadata": {},
     "output_type": "execute_result"
    }
   ],
   "source": [
    "DT.fit(X_train, y_train)\n"
   ]
  },
  {
   "cell_type": "code",
   "execution_count": 248,
   "metadata": {},
   "outputs": [],
   "source": [
    "y_predict = DT.predict(X_test)\n"
   ]
  },
  {
   "cell_type": "code",
   "execution_count": 249,
   "metadata": {},
   "outputs": [
    {
     "name": "stdout",
     "output_type": "stream",
     "text": [
      "0.8075471698113208\n"
     ]
    }
   ],
   "source": [
    "print(accuracy_score(y_test, y_predict))"
   ]
  },
  {
   "cell_type": "markdown",
   "metadata": {},
   "source": [
    "- When using a general Decision tree with random state = 10 our accuracy is about 80.75%"
   ]
  },
  {
   "cell_type": "markdown",
   "metadata": {},
   "source": [
    "#### C.) Decision Tree with bagging/voting"
   ]
  },
  {
   "cell_type": "code",
   "execution_count": 250,
   "metadata": {},
   "outputs": [
    {
     "data": {
      "text/plain": [
       "DecisionTreeClassifier(max_depth=2)"
      ]
     },
     "execution_count": 250,
     "metadata": {},
     "output_type": "execute_result"
    }
   ],
   "source": [
    "X_train, X_test, y_train, y_test = train_test_split(X_scaled, y, test_size=0.25, random_state=6)\n",
    "\n",
    "# Set hyper-parameters, for controlling algorithm\n",
    "clf = DecisionTreeClassifier(max_depth=2)\n",
    "\n",
    "# Learn a model from training data\n",
    "clf.fit(X_train, y_train)"
   ]
  },
  {
   "cell_type": "code",
   "execution_count": 251,
   "metadata": {},
   "outputs": [
    {
     "name": "stdout",
     "output_type": "stream",
     "text": [
      "[1 1 1 ... 1 1 1]\n"
     ]
    }
   ],
   "source": [
    "y_predict = clf.predict(X_test)\n",
    "print(y_predict)\n"
   ]
  },
  {
   "cell_type": "code",
   "execution_count": 252,
   "metadata": {},
   "outputs": [
    {
     "name": "stdout",
     "output_type": "stream",
     "text": [
      "0.8943396226415095\n"
     ]
    }
   ],
   "source": [
    "print(accuracy_score(y_test, y_predict))"
   ]
  },
  {
   "cell_type": "markdown",
   "metadata": {},
   "source": [
    "- Using a Decision tree with bagging and voting we find that the accuracy is 89.43% with a max_depth of 2. "
   ]
  },
  {
   "cell_type": "markdown",
   "metadata": {},
   "source": [
    "- Below we will test max_depth values that range from 1 to 15 to see if there is an increace of accuracy. "
   ]
  },
  {
   "cell_type": "code",
   "execution_count": 253,
   "metadata": {
    "scrolled": true
   },
   "outputs": [
    {
     "name": "stdout",
     "output_type": "stream",
     "text": [
      "max_depth =  1  accuracy score 0.8991194968553459\n",
      "max_depth =  2  accuracy score 0.8991194968553459\n",
      "max_depth =  3  accuracy score 0.8983647798742138\n",
      "max_depth =  4  accuracy score 0.8986163522012579\n",
      "max_depth =  5  accuracy score 0.8981132075471698\n",
      "max_depth =  6  accuracy score 0.8961006289308177\n",
      "max_depth =  7  accuracy score 0.889811320754717\n",
      "max_depth =  8  accuracy score 0.8870440251572327\n",
      "max_depth =  9  accuracy score 0.8840251572327044\n",
      "max_depth =  10  accuracy score 0.8777358490566037\n",
      "max_depth =  11  accuracy score 0.8749685534591195\n",
      "max_depth =  12  accuracy score 0.8636477987421384\n",
      "max_depth =  13  accuracy score 0.86062893081761\n",
      "max_depth =  14  accuracy score 0.8548427672955975\n",
      "max_depth =  15  accuracy score 0.8470440251572326\n",
      "max_depth =  16  accuracy score 0.840754716981132\n",
      "max_depth =  17  accuracy score 0.8372327044025157\n",
      "max_depth =  18  accuracy score 0.8261635220125786\n",
      "max_depth =  19  accuracy score 0.8238993710691824\n",
      "\n",
      " Best Accuracy:  0.8991194968553459   max_depth =  2\n"
     ]
    }
   ],
   "source": [
    "X_train, X_test, y_train, y_test = train_test_split(X_scaled, y, test_size=0.25, random_state=4)\n",
    "\n",
    "bestaccuracy = -1\n",
    "bestindex = -1\n",
    "for i in range(1, 20):\n",
    "    clf = DecisionTreeClassifier(max_depth = i)\n",
    "    # Learn a model from training data\n",
    "    clf.fit(X_train, y_train)\n",
    "    y_predict = clf.predict(X_test)\n",
    "    clf.predict_proba(X_test)\n",
    "    accuracy = accuracy_score(y_test, y_predict)\n",
    "    print(\"max_depth = \", i , \" accuracy score\", accuracy)\n",
    "    if accuracy >= bestaccuracy:\n",
    "        bestaccuracy = accuracy \n",
    "        bestindex = i\n",
    "        \n",
    "print(\"\\n\",\"Best Accuracy: \"  , bestaccuracy , \"  max_depth = \" , bestindex)\n"
   ]
  },
  {
   "cell_type": "markdown",
   "metadata": {},
   "source": [
    "#### D.) Results"
   ]
  },
  {
   "cell_type": "markdown",
   "metadata": {},
   "source": [
    "- After having a max_depth of range 1 to 15 we see that the best accuracy is when we have an initial random_state of 4 for the training data and a max_depth of 2 producing us an accuracy of 89.91% When comparing this to the previous accuracy we decided that if will be using a random state of 4 when splitting the data and a max_depth of 2 when applying decision trees to our model. When comparing both of theses bagging and voting methods to the original decision tree model we see that the accuracy increases almost 9%."
   ]
  },
  {
   "cell_type": "markdown",
   "metadata": {},
   "source": [
    "-------------------------------------------------------------------------------------------------------------------\n",
    "## 5.) Linear Regression\n",
    "-------------------------------------------------------------------------------------------------------------------"
   ]
  },
  {
   "cell_type": "markdown",
   "metadata": {},
   "source": [
    "#### A.) Linear Regression Testing"
   ]
  },
  {
   "cell_type": "code",
   "execution_count": 254,
   "metadata": {},
   "outputs": [],
   "source": [
    "features = ['acousticness', 'danceability', 'energy', 'instrumentalness', 'liveness', 'speechiness', 'valence']\n",
    "X = data[features]\n",
    "X_scaled = preprocessing.scale(X)\n",
    "y = data['popularity']\n",
    "X_train, X_test, y_train, y_test = train_test_split(X_scaled, y, test_size=0.25, random_state=6)"
   ]
  },
  {
   "cell_type": "code",
   "execution_count": 255,
   "metadata": {},
   "outputs": [
    {
     "name": "stdout",
     "output_type": "stream",
     "text": [
      "(11925, 7)\n",
      "(11925,)\n",
      "(3975, 7)\n",
      "(3975,)\n"
     ]
    }
   ],
   "source": [
    "print(X_train.shape)\n",
    "print(y_train.shape)\n",
    "print(X_test.shape)\n",
    "print(y_test.shape)"
   ]
  },
  {
   "cell_type": "markdown",
   "metadata": {},
   "source": [
    "- Here \"my_linreg\" is instantiated as an \"object\" of LinearRegression \"class\" and we run \"fit\". "
   ]
  },
  {
   "cell_type": "code",
   "execution_count": 256,
   "metadata": {},
   "outputs": [
    {
     "data": {
      "text/plain": [
       "LinearRegression()"
      ]
     },
     "execution_count": 256,
     "metadata": {},
     "output_type": "execute_result"
    }
   ],
   "source": [
    "# In the following line, \"my_linreg\" is instantiated as an \"object\" of LinearRegression \"class\". \n",
    "my_linreg = LinearRegression()\n",
    "\n",
    "# fitting the model to the training data:\n",
    "my_linreg.fit(X_train, y_train)"
   ]
  },
  {
   "cell_type": "code",
   "execution_count": 257,
   "metadata": {},
   "outputs": [
    {
     "name": "stdout",
     "output_type": "stream",
     "text": [
      "61.21162364928903\n",
      "[ 0.11433027  1.61420455 -0.7739777  -0.00276262 -0.07838649  0.06568703\n",
      " -0.27870316]\n"
     ]
    }
   ],
   "source": [
    "# printing Theta0 using attribute \"intercept_\":\n",
    "print(my_linreg.intercept_)\n",
    "\n",
    "# printing [Theta1, Theta2, Theta3] using attribute \"coef_\":\n",
    "print(my_linreg.coef_)"
   ]
  },
  {
   "cell_type": "markdown",
   "metadata": {},
   "source": [
    "- Here we can see the model will be:<br><br>\n",
    "$$y = 61.212 + 0.114 \\times acousticness + 1.614 \\times danceability - 0.774 \\times energy - 0.003 \\times instrumentalness - 0.078 \\times liveness + 0.066 \\times speechiness -0.279 \\times valence$$\n",
    "<br>\n",
    "- This means that danceability will be the most important feature for this model, because it is the largest number\n",
    "- Instrumentalness will be the least important feature because it is the smallest"
   ]
  },
  {
   "cell_type": "code",
   "execution_count": 258,
   "metadata": {},
   "outputs": [],
   "source": [
    "# make predictions on the testing set\n",
    "y_prediction = my_linreg.predict(X_test)"
   ]
  },
  {
   "cell_type": "code",
   "execution_count": 259,
   "metadata": {},
   "outputs": [],
   "source": [
    "y_prediction = np.where(y_prediction > 50, 1, 0)\n",
    "y_test = np.where(y_test > 50, 1, 0)"
   ]
  },
  {
   "cell_type": "code",
   "execution_count": 260,
   "metadata": {},
   "outputs": [
    {
     "name": "stdout",
     "output_type": "stream",
     "text": [
      "0.8943396226415095\n"
     ]
    }
   ],
   "source": [
    "score_LinearRegression = accuracy_score(y_prediction , y_test)\n",
    "print(score_LinearRegression)"
   ]
  },
  {
   "cell_type": "markdown",
   "metadata": {},
   "source": [
    "#### B.) MSE and RMSE"
   ]
  },
  {
   "cell_type": "code",
   "execution_count": 261,
   "metadata": {},
   "outputs": [
    {
     "name": "stdout",
     "output_type": "stream",
     "text": [
      "0.3250544221488004\n"
     ]
    }
   ],
   "source": [
    "# Calculating \"Mean Square Error\" (MSE):\n",
    "mse = metrics.mean_squared_error(y_test, y_prediction)\n",
    "\n",
    "# Using numpy sqrt function to take the square root and calculate \"Root Mean Square Error\" (RMSE)\n",
    "rmse = np.sqrt(mse)\n",
    "\n",
    "print(rmse)"
   ]
  },
  {
   "cell_type": "markdown",
   "metadata": {},
   "source": [
    "#### C.) Results and Visualization"
   ]
  },
  {
   "cell_type": "markdown",
   "metadata": {},
   "source": [
    "- The accuracy score of our prediction is 89.43% when using Linear regression. Please note that we are using boolean values indicating popular or not popular. If the popularity value falls underneath 50% it is not popular otherwise it is popular. \n",
    "\n",
    "- We obtained a \"Root Mean Square Error\" (RMSE) of 0.3250"
   ]
  },
  {
   "cell_type": "code",
   "execution_count": 262,
   "metadata": {},
   "outputs": [
    {
     "data": {
      "text/plain": [
       "Text(69.0, 0.5, 'Truth')"
      ]
     },
     "execution_count": 262,
     "metadata": {},
     "output_type": "execute_result"
    },
    {
     "data": {
      "image/png": "[encoded data removed]",
      "text/plain": [
       "<Figure size 720x360 with 2 Axes>"
      ]
     },
     "metadata": {
      "needs_background": "light"
     },
     "output_type": "display_data"
    }
   ],
   "source": [
    "cm = confusion_matrix(y_test, y_prediction)\n",
    "%matplotlib inline\n",
    "plt.figure(figsize=(10,5))\n",
    "sn.heatmap(cm, annot=True)\n",
    "plt.xlabel('Predicted')\n",
    "plt.ylabel('Truth')"
   ]
  },
  {
   "cell_type": "markdown",
   "metadata": {},
   "source": [
    "- The above graph shows our prediction vs the truth. Here we see every value we predicted as true. For example we see that we predicted 3.6*10^3 = 3600 values correctly vs only 420 false positives. which is around 88.33%. The numbers in this plot are rounded , but the results is very similar to our accuracy score."
   ]
  },
  {
   "cell_type": "markdown",
   "metadata": {},
   "source": [
    "-------------------------------------------------------------------------------------------------------------------\n",
    "## 6.) Logistic Regression\n",
    "-------------------------------------------------------------------------------------------------------------------"
   ]
  },
  {
   "cell_type": "markdown",
   "metadata": {},
   "source": [
    "#### A.) General case logistic regression"
   ]
  },
  {
   "cell_type": "markdown",
   "metadata": {},
   "source": [
    "- First we will again create our feature matrix and label vector\n",
    "- We will scale the feature matrix\n",
    "- And finally, we will create our test/training split"
   ]
  },
  {
   "cell_type": "code",
   "execution_count": 263,
   "metadata": {},
   "outputs": [],
   "source": [
    "# create feature matrix and scale, and then create label vector\n",
    "features = ['acousticness', 'danceability', 'energy', 'instrumentalness', 'liveness', 'speechiness', 'valence']\n",
    "X = data[features]\n",
    "X_scaled = preprocessing.scale(X)\n",
    "y = data['binary_popularity']\n",
    "\n",
    "# test/train split\n",
    "X_train, X_test, y_train, y_test = train_test_split(X_scaled, y, test_size=0.25, random_state=6)"
   ]
  },
  {
   "cell_type": "markdown",
   "metadata": {},
   "source": [
    "- Now we will create the logistic regression object and fit the training data\n",
    "- Then, we will run the pridiction and print the results"
   ]
  },
  {
   "cell_type": "code",
   "execution_count": 264,
   "metadata": {},
   "outputs": [],
   "source": [
    "# instantiate the logistic regression object\n",
    "my_logreg = LogisticRegression()"
   ]
  },
  {
   "cell_type": "code",
   "execution_count": 265,
   "metadata": {},
   "outputs": [
    {
     "data": {
      "text/plain": [
       "LogisticRegression()"
      ]
     },
     "execution_count": 265,
     "metadata": {},
     "output_type": "execute_result"
    }
   ],
   "source": [
    "# fit with training data\n",
    "my_logreg.fit(X_train, y_train)"
   ]
  },
  {
   "cell_type": "code",
   "execution_count": 266,
   "metadata": {
    "scrolled": true
   },
   "outputs": [
    {
     "name": "stdout",
     "output_type": "stream",
     "text": [
      "[1 1 1 ... 1 1 1]\n"
     ]
    }
   ],
   "source": [
    "#run prediction using test data\n",
    "y_predict_lr = my_logreg.predict(X_test)\n",
    "\n",
    "# print results\n",
    "print(y_predict_lr)"
   ]
  },
  {
   "cell_type": "markdown",
   "metadata": {},
   "source": [
    "- Now we will check the accuracy of the model and pring the score"
   ]
  },
  {
   "cell_type": "code",
   "execution_count": 267,
   "metadata": {},
   "outputs": [
    {
     "name": "stdout",
     "output_type": "stream",
     "text": [
      "0.8943396226415095\n"
     ]
    }
   ],
   "source": [
    "# get accuracy of prediction vs the testing set\n",
    "score_lr = accuracy_score(y_test, y_predict_lr)\n",
    "\n",
    "# print the result\n",
    "print(score_lr)"
   ]
  },
  {
   "cell_type": "markdown",
   "metadata": {},
   "source": [
    "#### B.) Logistic regression with cross validation"
   ]
  },
  {
   "cell_type": "markdown",
   "metadata": {},
   "source": [
    "- Now we will again use logistic regression with our data, but we use 10-fold cross validation to further check the accuracy"
   ]
  },
  {
   "cell_type": "code",
   "execution_count": 268,
   "metadata": {},
   "outputs": [
    {
     "name": "stdout",
     "output_type": "stream",
     "text": [
      "[0.89371069 0.89371069 0.89371069 0.89371069 0.89371069 0.89371069\n",
      " 0.89371069 0.89371069 0.89371069 0.89371069]\n"
     ]
    }
   ],
   "source": [
    "# apply 10-fold cross validation\n",
    "\n",
    "# instantiate logreg as an LogisticRegression object\n",
    "logreg = LogisticRegression()\n",
    "\n",
    "# call cross_val_score function to perform cross validation\n",
    "accuracy_list = cross_val_score(my_logreg, X_scaled, y, cv=10, scoring='accuracy')\n",
    "\n",
    "print(accuracy_list)"
   ]
  },
  {
   "cell_type": "markdown",
   "metadata": {},
   "source": [
    "- Here we will print the average of all our accuracy numbers for each of the 10 folds"
   ]
  },
  {
   "cell_type": "code",
   "execution_count": 269,
   "metadata": {},
   "outputs": [
    {
     "name": "stdout",
     "output_type": "stream",
     "text": [
      "0.8937106918238994\n"
     ]
    }
   ],
   "source": [
    "# use average of accuracy values as final result\n",
    "accuracy_cv = accuracy_list.mean()\n",
    "\n",
    "# print final result\n",
    "print(accuracy_cv)"
   ]
  },
  {
   "cell_type": "markdown",
   "metadata": {},
   "source": [
    "#### C.) Logistic regression probabilities"
   ]
  },
  {
   "cell_type": "markdown",
   "metadata": {},
   "source": [
    "- Now we will create a list of probabilities for each result. This will help us visualize the data in a ROC Curve"
   ]
  },
  {
   "cell_type": "code",
   "execution_count": 270,
   "metadata": {},
   "outputs": [
    {
     "name": "stdout",
     "output_type": "stream",
     "text": [
      "[[0.11209236 0.88790764]\n",
      " [0.10626946 0.89373054]\n",
      " [0.08864114 0.91135886]\n",
      " ...\n",
      " [0.10204655 0.89795345]\n",
      " [0.11698442 0.88301558]\n",
      " [0.09767937 0.90232063]]\n"
     ]
    }
   ],
   "source": [
    "# run predict_prob to get the probability of each label\n",
    "y_predict_prob_lr = my_logreg.predict_proba(X_test)\n",
    "\n",
    "print(y_predict_prob_lr)"
   ]
  },
  {
   "cell_type": "markdown",
   "metadata": {},
   "source": [
    "#### D.) Compute AUC and Plot ROC Curve"
   ]
  },
  {
   "cell_type": "markdown",
   "metadata": {},
   "source": [
    "- To better visualize the data, we can get our false and true positive rates and plat a ROC curve to check the AUC and better understand our accuracy"
   ]
  },
  {
   "cell_type": "code",
   "execution_count": 271,
   "metadata": {},
   "outputs": [
    {
     "name": "stdout",
     "output_type": "stream",
     "text": [
      "0.6149069050967786\n"
     ]
    }
   ],
   "source": [
    "# run roc_curve on the labels and get the fpr, tpr, and thresholds\n",
    "fpr, tpr, thresholds = metrics.roc_curve(y_test, y_predict_prob_lr[:,1], pos_label=1)\n",
    "\n",
    "# get auc\n",
    "AUC = metrics.auc(fpr, tpr)\n",
    "print(AUC)"
   ]
  },
  {
   "cell_type": "code",
   "execution_count": 272,
   "metadata": {},
   "outputs": [
    {
     "data": {
      "image/png": "[encoded data removed]",
      "text/plain": [
       "<Figure size 432x288 with 1 Axes>"
      ]
     },
     "metadata": {
      "needs_background": "light"
     },
     "output_type": "display_data"
    }
   ],
   "source": [
    "# keep the figure inside the explorer page\n",
    "%matplotlib inline\n",
    "\n",
    "# instantiate a plot\n",
    "plt.figure()\n",
    "\n",
    "# plot the roc curve with a red line and set the label to 2 decimal places\n",
    "plt.plot(fpr, tpr, color='red', lw=2, \n",
    "         label='ROC Curve (area = %0.2f)' % AUC)\n",
    "\n",
    "# Random Guess line:\n",
    "plt.plot([0, 1], [0, 1], color='blue', lw=1, linestyle='--')\n",
    "\n",
    "# define the x and y axis range\n",
    "plt.xlim([-0.005, 1.005])\n",
    "plt.ylim([0.0, 1.01])\n",
    "\n",
    "# create the labels for the x and y axis, the title, and the legend\n",
    "plt.xlabel('False Positive Rate')\n",
    "plt.ylabel('True Positive Rate')\n",
    "plt.title('Receiver operating characteristic')\n",
    "plt.legend(loc=\"lower right\")\n",
    "\n",
    "# print the plot\n",
    "plt.show()"
   ]
  },
  {
   "cell_type": "markdown",
   "metadata": {},
   "source": [
    "- The plot shows the relationship between true and false positives at different decision thresholds. The blue dotted line represents a 50% relationship which is undesirable. Our curve, shown in red, displays our model is better at predicting true postives and especially between the thresholds of .2 and .6."
   ]
  },
  {
   "cell_type": "markdown",
   "metadata": {},
   "source": [
    "-------------------------------------------------------------------------------------------------------------------\n",
    "## 7.) Random Forest\n",
    "-------------------------------------------------------------------------------------------------------------------"
   ]
  },
  {
   "cell_type": "code",
   "execution_count": 273,
   "metadata": {},
   "outputs": [],
   "source": [
    "features = ['acousticness', 'danceability', 'energy', 'instrumentalness', 'liveness', 'speechiness', 'valence']\n",
    "X = data[features]\n",
    "X_scaled = preprocessing.scale(X)\n",
    "y = data['binary_popularity']\n",
    "X_train, X_test, y_train, y_test = train_test_split(X_scaled, y, test_size=0.25, random_state=6)"
   ]
  },
  {
   "cell_type": "code",
   "execution_count": 274,
   "metadata": {},
   "outputs": [
    {
     "data": {
      "text/plain": [
       "RandomForestClassifier()"
      ]
     },
     "execution_count": 274,
     "metadata": {},
     "output_type": "execute_result"
    }
   ],
   "source": [
    "RFC = RandomForestClassifier(n_estimators=100)\n",
    "RFC.fit(X_train, y_train)"
   ]
  },
  {
   "cell_type": "code",
   "execution_count": 275,
   "metadata": {},
   "outputs": [],
   "source": [
    "y_predicted = RFC.predict(X_test)\n",
    "    \n",
    "# check the accuracy of our prediction\n",
    "accuracy = accuracy_score(y_test, y_predicted)"
   ]
  },
  {
   "cell_type": "code",
   "execution_count": 276,
   "metadata": {},
   "outputs": [
    {
     "name": "stdout",
     "output_type": "stream",
     "text": [
      "0.8923270440251573\n"
     ]
    },
    {
     "data": {
      "text/plain": [
       "0.8923270440251573"
      ]
     },
     "execution_count": 276,
     "metadata": {},
     "output_type": "execute_result"
    }
   ],
   "source": [
    "print(accuracy)\n",
    "RFC.score(X_test,y_test)"
   ]
  },
  {
   "cell_type": "code",
   "execution_count": 277,
   "metadata": {
    "scrolled": true
   },
   "outputs": [
    {
     "data": {
      "text/plain": [
       "Text(69.0, 0.5, 'Truth')"
      ]
     },
     "execution_count": 277,
     "metadata": {},
     "output_type": "execute_result"
    },
    {
     "data": {
      "image/png": "[encoded data removed]",
      "text/plain": [
       "<Figure size 720x360 with 2 Axes>"
      ]
     },
     "metadata": {
      "needs_background": "light"
     },
     "output_type": "display_data"
    }
   ],
   "source": [
    "cm = confusion_matrix(y_test, y_predicted)\n",
    "%matplotlib inline\n",
    "plt.figure(figsize=(10,5))\n",
    "sn.heatmap(cm, annot=True)\n",
    "plt.xlabel('Predicted')\n",
    "plt.ylabel('Truth')"
   ]
  },
  {
   "cell_type": "markdown",
   "metadata": {},
   "source": [
    "- When Using random forest to predict our model our results are very similar to decision tree with bagging and voting, as expected. We end up with a accuracy score of 0.8923270440251573 or 89.23%."
   ]
  },
  {
   "cell_type": "markdown",
   "metadata": {},
   "source": [
    "-------------------------------------------------------------------------------------------------------------------\n",
    "## 8.) KMeans Clustering\n",
    "-------------------------------------------------------------------------------------------------------------------"
   ]
  },
  {
   "cell_type": "markdown",
   "metadata": {},
   "source": [
    "#### A.) Kmeans Testing Pt. 1"
   ]
  },
  {
   "cell_type": "markdown",
   "metadata": {},
   "source": [
    "- Here we are exploring general patterns among the features, in absense of a label\n",
    "- First we select 2 features to test first, valence and liveness\n",
    "- Then we run the KMeans algorithm with the selected features\n",
    "- Finally we plot the clusturs in a scatter graph, with two different colors representing different clusters, and observe the patterns"
   ]
  },
  {
   "cell_type": "code",
   "execution_count": 278,
   "metadata": {
    "scrolled": true
   },
   "outputs": [
    {
     "data": {
      "text/plain": [
       "<function matplotlib.pyplot.show(*args, **kw)>"
      ]
     },
     "execution_count": 278,
     "metadata": {},
     "output_type": "execute_result"
    },
    {
     "data": {
      "image/png": "[encoded data removed]",
      "text/plain": [
       "<Figure size 432x288 with 1 Axes>"
      ]
     },
     "metadata": {
      "needs_background": "light"
     },
     "output_type": "display_data"
    }
   ],
   "source": [
    "# keep the figures inside the explorer page \n",
    "%matplotlib inline\n",
    "\n",
    "# use 2 features to check the clustering\n",
    "features1 = ['valence', 'liveness']\n",
    "X = data[features1]\n",
    "\n",
    "# set the clustering\n",
    "my_KMeans = KMeans(n_clusters=2)\n",
    "my_KMeans.fit(X)\n",
    "\n",
    "# create the labels from the clustering labels \n",
    "labels = my_KMeans.labels_\n",
    "\n",
    "# find the center of clusters\n",
    "centers = my_KMeans.cluster_centers_\n",
    "\n",
    "# plot the results\n",
    "plt.figure\n",
    "\n",
    "for l, c in zip([0,1], ['red', 'blue']):\n",
    "    \n",
    "    current_members = (labels == l)\n",
    "    current_center = centers[l]\n",
    "    \n",
    "    plt.scatter(X.iloc[current_members,0], X.iloc[current_members,1], color = c, marker='x')\n",
    "    \n",
    "    plt.plot(current_center[0], current_center[1], 'o', markerfacecolor = c,\n",
    "            markeredgecolor = 'k', markersize=7)\n",
    "\n",
    "# range of axises\n",
    "plt.xlim([0, 1.25])\n",
    "plt.ylim([-0.1, 1.25])\n",
    "\n",
    "# set the label title and legend\n",
    "plt.xlabel('valence')\n",
    "plt.ylabel('liveness')\n",
    "plt.title('KMeans for song dataset')\n",
    "\n",
    "plt.show"
   ]
  },
  {
   "cell_type": "markdown",
   "metadata": {},
   "source": [
    "- Here we can see some different clustering happening between lower and higher valence levels, one could assume lower valence could indicate lower popularity, but testing with each feature would be more helpful"
   ]
  },
  {
   "cell_type": "markdown",
   "metadata": {},
   "source": [
    "#### B.) Kmeans Testing Pt. 2"
   ]
  },
  {
   "cell_type": "markdown",
   "metadata": {},
   "source": [
    "- NOW we will select 2 other features to test, acousticness and danceability\n",
    "- Then we run the KMeans algorithm again with the selected features\n",
    "- Finally we plot the clusturs in a scatter graph, with three different colors representing different clusters, and observe the patterns"
   ]
  },
  {
   "cell_type": "code",
   "execution_count": 279,
   "metadata": {
    "scrolled": true
   },
   "outputs": [
    {
     "data": {
      "text/plain": [
       "<function matplotlib.pyplot.show(*args, **kw)>"
      ]
     },
     "execution_count": 279,
     "metadata": {},
     "output_type": "execute_result"
    },
    {
     "data": {
      "image/png": "[encoded data removed]",
      "text/plain": [
       "<Figure size 432x288 with 1 Axes>"
      ]
     },
     "metadata": {
      "needs_background": "light"
     },
     "output_type": "display_data"
    }
   ],
   "source": [
    "# keep the figures inside the explorer page \n",
    "%matplotlib inline\n",
    "\n",
    "\n",
    "# use 2 features to check the clustering\n",
    "features2 = ['acousticness', 'danceability']\n",
    "X = data[features2]\n",
    "\n",
    "# set the clustering\n",
    "my_KMeans = KMeans(n_clusters=2)\n",
    "my_KMeans.fit(X)\n",
    "\n",
    "# create the labels from the clustering labels \n",
    "labels = my_KMeans.labels_\n",
    "\n",
    "# find the center of clusters\n",
    "centers = my_KMeans.cluster_centers_\n",
    "\n",
    "# plot the results\n",
    "plt.figure\n",
    "\n",
    "for l, c in zip([0,1,2], ['red', 'blue']):\n",
    "    \n",
    "    current_members = (labels == l)\n",
    "    current_center = centers[l]\n",
    "    \n",
    "    plt.scatter(X.iloc[current_members,0], X.iloc[current_members,1], color = c, marker='x')\n",
    "    \n",
    "    plt.plot(current_center[0], current_center[1], 'o', markerfacecolor = c,\n",
    "            markeredgecolor = 'k', markersize=7)\n",
    "\n",
    "# range of axises\n",
    "plt.xlim([0, 1.25])\n",
    "plt.ylim([-0.1, 1.25])\n",
    "\n",
    "# set the label title and legend\n",
    "plt.xlabel('acousticness')\n",
    "plt.ylabel('danceability')\n",
    "plt.title('KMeans for song dataset')\n",
    "\n",
    "plt.show"
   ]
  },
  {
   "cell_type": "markdown",
   "metadata": {},
   "source": [
    "- Here we can see a pattern similiar to that of the feature valence with the feature acousticness. Clustering around low acousticness levels and again at higher levels. This would be helpful to try with each feature in order to find the clustering patterns for each. Of course for our model we already have the labels so we do not need to use this unsupervised learning method, but it does could paint a picture of more helpful features to use."
   ]
  },
  {
   "cell_type": "markdown",
   "metadata": {},
   "source": [
    "#### B.) Kmeans Combined Testing and Results"
   ]
  },
  {
   "cell_type": "markdown",
   "metadata": {},
   "source": [
    "- To test our ideas about acousticness and valence we can use Kmeans again but see if we get some kind of linear pattern that would represent popularity"
   ]
  },
  {
   "cell_type": "code",
   "execution_count": 280,
   "metadata": {
    "scrolled": true
   },
   "outputs": [
    {
     "data": {
      "text/plain": [
       "<function matplotlib.pyplot.show(*args, **kw)>"
      ]
     },
     "execution_count": 280,
     "metadata": {},
     "output_type": "execute_result"
    },
    {
     "data": {
      "image/png": "[encoded data removed]",
      "text/plain": [
       "<Figure size 432x288 with 1 Axes>"
      ]
     },
     "metadata": {
      "needs_background": "light"
     },
     "output_type": "display_data"
    }
   ],
   "source": [
    "# keep the figures inside the explorer page \n",
    "%matplotlib inline\n",
    "\n",
    "\n",
    "# use 2 features to check the clustering\n",
    "features2 = ['acousticness', 'valence']\n",
    "X = data[features2]\n",
    "\n",
    "# set the clustering\n",
    "my_KMeans = KMeans(n_clusters=2)\n",
    "my_KMeans.fit(X)\n",
    "\n",
    "# create the labels from the clustering labels \n",
    "labels = my_KMeans.labels_\n",
    "\n",
    "# find the center of clusters\n",
    "centers = my_KMeans.cluster_centers_\n",
    "\n",
    "# plot the results\n",
    "plt.figure\n",
    "\n",
    "for l, c in zip([0,1,2], ['red', 'blue']):\n",
    "    \n",
    "    current_members = (labels == l)\n",
    "    current_center = centers[l]\n",
    "    \n",
    "    plt.scatter(X.iloc[current_members,0], X.iloc[current_members,1], color = c, marker='x')\n",
    "    \n",
    "    plt.plot(current_center[0], current_center[1], 'o', markerfacecolor = c,\n",
    "            markeredgecolor = 'k', markersize=7)\n",
    "\n",
    "# range of axises\n",
    "plt.xlim([0, 1.25])\n",
    "plt.ylim([-0.1, 1.25])\n",
    "\n",
    "# set the label title and legend\n",
    "plt.xlabel('acousticness')\n",
    "plt.ylabel('valence')\n",
    "plt.title('KMeans for song dataset')\n",
    "\n",
    "plt.show"
   ]
  },
  {
   "cell_type": "markdown",
   "metadata": {},
   "source": [
    "- Here we do see a much more linear relationship between the two features, indicating a potential label patter for popularity."
   ]
  },
  {
   "cell_type": "markdown",
   "metadata": {},
   "source": [
    "-------------------------------------------------------------------------------------------------------------------\n",
    "## 9.) Conclusion\n",
    "-------------------------------------------------------------------------------------------------------------------"
   ]
  },
  {
   "cell_type": "markdown",
   "metadata": {},
   "source": [
    "This accuracy performance test used Spotify's data set to predict the popularity of a song based on the following features: acousticness, danceability, energy, instrumentalness, liveness, speechiness, valence. After having run KNN, Decision Tree, Linear Regression, Logistic Regression, Random Forest, and  K-Means Clustering models  and comparing their accuracies we found that for our given data set the most accurate model is Linear Regression producing an accuracy of 89.91%. Extensive testing can also be done to determine the most efficient model by comparing the computational complexities of the models listed. When dealing with Big Data the complexity of the model, and how the data is trained becomes as important as the accuracy it produces. However, the results indicate that the linear regression model would suffice to predict a song's popularity."
   ]
  },
  {
   "cell_type": "markdown",
   "metadata": {},
   "source": [
    "-------------------------------------------------------------------------------------------------------------------\n",
    "## 10.) Resources\n",
    "-------------------------------------------------------------------------------------------------------------------"
   ]
  },
  {
   "cell_type": "markdown",
   "metadata": {},
   "source": [
    "- Data - https://www.kaggle.com/yamaerenay/spotify-dataset-19212020-160k-tracks\n",
    "- Python Documentation - https://docs.python.org/3/\n",
    "- ScikitLearn Documentation - https://scikit-learn.org/stable/\n",
    "- Pandas Documentation - https://pandas.pydata.org/docs/\n",
    "- Matplot Lib Documentation - https://matplotlib.org/3.3.3/contents.html\n",
    "- Seaborn Documentation https://seaborn.pydata.org\n",
    "- CSULA Data Science Lab https://www.calstatela.edu/research/data-science"
   ]
  }
 ],
 "metadata": {
  "kernelspec": {
   "display_name": "Python 3",
   "language": "python",
   "name": "python3"
  },
  "language_info": {
   "codemirror_mode": {
    "name": "ipython",
    "version": 3
   },
   "file_extension": ".py",
   "mimetype": "text/x-python",
   "name": "python",
   "nbconvert_exporter": "python",
   "pygments_lexer": "ipython3",
   "version": "3.8.3"
  }
 },
 "nbformat": 4,
 "nbformat_minor": 4
}
